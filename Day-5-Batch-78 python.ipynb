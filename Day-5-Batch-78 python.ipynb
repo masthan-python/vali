{
 "cells": [
  {
   "cell_type": "code",
   "execution_count": 1,
   "id": "0bc95859",
   "metadata": {},
   "outputs": [
    {
     "name": "stdout",
     "output_type": "stream",
     "text": [
      "['suzuki', 'audi', 'benju', 'hero', 'honda', 'bmw', 'maruthi', 'kia']\n"
     ]
    }
   ],
   "source": [
    "cars=['suzuki','audi','benju','hero','honda','bmw','maruthi','kia']\n",
    "print(cars)"
   ]
  },
  {
   "cell_type": "code",
   "execution_count": 2,
   "id": "1748f1ef",
   "metadata": {},
   "outputs": [
    {
     "data": {
      "text/plain": [
       "list"
      ]
     },
     "execution_count": 2,
     "metadata": {},
     "output_type": "execute_result"
    }
   ],
   "source": [
    "type(cars)"
   ]
  },
  {
   "cell_type": "code",
   "execution_count": 3,
   "id": "c7056349",
   "metadata": {},
   "outputs": [
    {
     "name": "stdout",
     "output_type": "stream",
     "text": [
      "['audi', 'benju', 'bmw', 'hero', 'honda', 'kia', 'maruthi', 'suzuki']\n"
     ]
    }
   ],
   "source": [
    "print(sorted(cars))"
   ]
  },
  {
   "cell_type": "code",
   "execution_count": 27,
   "id": "80728e65",
   "metadata": {},
   "outputs": [
    {
     "name": "stdout",
     "output_type": "stream",
     "text": [
      "['audi', 'benju', 'bmw', 'hero', 'honda', 'kia', 'maruthi', 'suzuki']\n",
      "['suzuki', 'maruthi', 'kia', 'honda', 'hero', 'bmw', 'benju', 'audi']\n"
     ]
    }
   ],
   "source": [
    "cars.sort()\n",
    "print(cars)\n",
    "cars.reverse()\n",
    "print(cars)"
   ]
  },
  {
   "cell_type": "code",
   "execution_count": 18,
   "id": "b2b12089",
   "metadata": {},
   "outputs": [
    {
     "ename": "NameError",
     "evalue": "name 'sort' is not defined",
     "output_type": "error",
     "traceback": [
      "\u001b[1;31m---------------------------------------------------------------------------\u001b[0m",
      "\u001b[1;31mNameError\u001b[0m                                 Traceback (most recent call last)",
      "Cell \u001b[1;32mIn[18], line 1\u001b[0m\n\u001b[1;32m----> 1\u001b[0m \u001b[38;5;28mprint\u001b[39m(\u001b[43msort\u001b[49m(cars))\n",
      "\u001b[1;31mNameError\u001b[0m: name 'sort' is not defined"
     ]
    }
   ],
   "source": [
    "print(sort(cars))"
   ]
  },
  {
   "cell_type": "code",
   "execution_count": 21,
   "id": "2e62f841",
   "metadata": {},
   "outputs": [
    {
     "name": "stdout",
     "output_type": "stream",
     "text": [
      "['audi', 'benju', 'bmw', 'hero', 'honda', 'kia', 'maruthi', 'suzuki']\n"
     ]
    }
   ],
   "source": [
    "print(cars)"
   ]
  },
  {
   "cell_type": "code",
   "execution_count": 42,
   "id": "97bfc437",
   "metadata": {},
   "outputs": [
    {
     "name": "stdout",
     "output_type": "stream",
     "text": [
      "['audi', 'benju', 'bmw', 'hero', 'honda', 'kia', 'maruthi', 'suzuki']\n"
     ]
    }
   ],
   "source": [
    "cars.reverse()\n",
    "print(cars)"
   ]
  },
  {
   "cell_type": "code",
   "execution_count": 28,
   "id": "fad6532c",
   "metadata": {},
   "outputs": [
    {
     "data": {
      "text/plain": [
       "8"
      ]
     },
     "execution_count": 28,
     "metadata": {},
     "output_type": "execute_result"
    }
   ],
   "source": [
    "len(cars)"
   ]
  },
  {
   "cell_type": "code",
   "execution_count": 49,
   "id": "4e227665",
   "metadata": {},
   "outputs": [
    {
     "name": "stdout",
     "output_type": "stream",
     "text": [
      "[2, 4, 6, 8, 10]\n"
     ]
    }
   ],
   "source": [
    "num_list=[1,2,3,4,5,6,7,8,9,10]\n",
    "print(num_list[1:11:2])"
   ]
  },
  {
   "cell_type": "code",
   "execution_count": 50,
   "id": "cba099a3",
   "metadata": {},
   "outputs": [
    {
     "name": "stdout",
     "output_type": "stream",
     "text": [
      "[1, 3, 5, 7, 9]\n"
     ]
    }
   ],
   "source": [
    "num_list=[1,2,3,4,5,6,7,8,9,10]\n",
    "print(num_list[0:11:2])"
   ]
  },
  {
   "cell_type": "code",
   "execution_count": 45,
   "id": "294d5ad2",
   "metadata": {},
   "outputs": [
    {
     "name": "stdout",
     "output_type": "stream",
     "text": [
      "[10]\n"
     ]
    }
   ],
   "source": [
    "num_list=[1,2,3,4,5,6,7,8,9,10]\n",
    "print(num_list[-1:])"
   ]
  },
  {
   "cell_type": "code",
   "execution_count": 48,
   "id": "9a4a0a4a",
   "metadata": {},
   "outputs": [
    {
     "name": "stdout",
     "output_type": "stream",
     "text": [
      "[]\n"
     ]
    }
   ],
   "source": [
    "num_list=[1,2,3,4,5,6,7,8,9,10]\n",
    "print(num_list[-1:-4])"
   ]
  },
  {
   "cell_type": "code",
   "execution_count": null,
   "id": "bc8ad961",
   "metadata": {},
   "outputs": [],
   "source": []
  }
 ],
 "metadata": {
  "kernelspec": {
   "display_name": "Python 3 (ipykernel)",
   "language": "python",
   "name": "python3"
  },
  "language_info": {
   "codemirror_mode": {
    "name": "ipython",
    "version": 3
   },
   "file_extension": ".py",
   "mimetype": "text/x-python",
   "name": "python",
   "nbconvert_exporter": "python",
   "pygments_lexer": "ipython3",
   "version": "3.10.9"
  }
 },
 "nbformat": 4,
 "nbformat_minor": 5
}
