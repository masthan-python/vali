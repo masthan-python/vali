{
 "cells": [
  {
   "cell_type": "code",
   "execution_count": null,
   "id": "e2615ad0",
   "metadata": {},
   "outputs": [],
   "source": [
    "looping statement:"
   ]
  },
  {
   "cell_type": "code",
   "execution_count": 3,
   "id": "ccb45b1e",
   "metadata": {},
   "outputs": [],
   "source": [
    "students=['vali','ananya','soumya','radika','arun','deepak','masthan']"
   ]
  },
  {
   "cell_type": "code",
   "execution_count": 5,
   "id": "89e82d65",
   "metadata": {},
   "outputs": [
    {
     "name": "stdout",
     "output_type": "stream",
     "text": [
      "['vali', 'ananya', 'soumya', 'radika', 'arun', 'deepak', 'masthan']\n"
     ]
    },
    {
     "data": {
      "text/plain": [
       "list"
      ]
     },
     "execution_count": 5,
     "metadata": {},
     "output_type": "execute_result"
    }
   ],
   "source": [
    "print(students)\n",
    "type(students)"
   ]
  },
  {
   "cell_type": "code",
   "execution_count": 6,
   "id": "2a4b358e",
   "metadata": {},
   "outputs": [
    {
     "name": "stdout",
     "output_type": "stream",
     "text": [
      "keep up the good work,Vali\n"
     ]
    }
   ],
   "source": [
    "print(f'keep up the good work,{students[0].title()}')"
   ]
  },
  {
   "cell_type": "code",
   "execution_count": 8,
   "id": "a385e398",
   "metadata": {},
   "outputs": [
    {
     "name": "stdout",
     "output_type": "stream",
     "text": [
      "keep up the good work,Ananya\n"
     ]
    }
   ],
   "source": [
    "print(f'keep up the good work,{students[1].title()}')"
   ]
  },
  {
   "cell_type": "code",
   "execution_count": 9,
   "id": "2f3faa50",
   "metadata": {},
   "outputs": [
    {
     "name": "stdout",
     "output_type": "stream",
     "text": [
      "keep up the good work,Masthan\n"
     ]
    }
   ],
   "source": [
    "print(f'keep up the good work,{students[6].title()}')"
   ]
  },
  {
   "cell_type": "code",
   "execution_count": 10,
   "id": "818d4bb0",
   "metadata": {},
   "outputs": [
    {
     "name": "stdout",
     "output_type": "stream",
     "text": [
      "keep up in good work,vali\n",
      "keep up in good work,ananya\n",
      "keep up in good work,soumya\n",
      "keep up in good work,radika\n",
      "keep up in good work,arun\n",
      "keep up in good work,deepak\n",
      "keep up in good work,masthan\n"
     ]
    }
   ],
   "source": [
    "for x in students:\n",
    "    print(f'keep up in good work,{x}')"
   ]
  },
  {
   "cell_type": "code",
   "execution_count": 13,
   "id": "328583e8",
   "metadata": {},
   "outputs": [
    {
     "name": "stdout",
     "output_type": "stream",
     "text": [
      "keep up in good work,vali\n",
      "do submit your git-hub urls to my index box,vali\n",
      "keep up in good work,ananya\n",
      "do submit your git-hub urls to my index box,ananya\n",
      "keep up in good work,soumya\n",
      "do submit your git-hub urls to my index box,soumya\n",
      "keep up in good work,radika\n",
      "do submit your git-hub urls to my index box,radika\n",
      "keep up in good work,arun\n",
      "do submit your git-hub urls to my index box,arun\n",
      "keep up in good work,deepak\n",
      "do submit your git-hub urls to my index box,deepak\n",
      "keep up in good work,masthan\n",
      "do submit your git-hub urls to my index box,masthan\n"
     ]
    }
   ],
   "source": [
    "for a in students:\n",
    "    print(f'keep up in good work,{a}')\n",
    "    print(f'do submit your git-hub urls to my index box,{a}')"
   ]
  },
  {
   "cell_type": "code",
   "execution_count": 14,
   "id": "fd104f5b",
   "metadata": {},
   "outputs": [
    {
     "name": "stdout",
     "output_type": "stream",
     "text": [
      "keep up in good work,vali\n",
      "do submit your git-hub urls to my index box,vali\n",
      "\n",
      "keep up in good work,ananya\n",
      "do submit your git-hub urls to my index box,ananya\n",
      "\n",
      "keep up in good work,soumya\n",
      "do submit your git-hub urls to my index box,soumya\n",
      "\n",
      "keep up in good work,radika\n",
      "do submit your git-hub urls to my index box,radika\n",
      "\n",
      "keep up in good work,arun\n",
      "do submit your git-hub urls to my index box,arun\n",
      "\n",
      "keep up in good work,deepak\n",
      "do submit your git-hub urls to my index box,deepak\n",
      "\n",
      "keep up in good work,masthan\n",
      "do submit your git-hub urls to my index box,masthan\n",
      "\n"
     ]
    }
   ],
   "source": [
    "for a in students:\n",
    "    print(f'keep up in good work,{a}')\n",
    "    print(f'do submit your git-hub urls to my index box,{a}\\n')"
   ]
  },
  {
   "cell_type": "code",
   "execution_count": 15,
   "id": "552aab2b",
   "metadata": {},
   "outputs": [
    {
     "name": "stdout",
     "output_type": "stream",
     "text": [
      "keep up in good work,vali\n",
      "do submit your git-hub urls to my index box,vali\n",
      "\t\n",
      "keep up in good work,ananya\n",
      "do submit your git-hub urls to my index box,ananya\n",
      "\t\n",
      "keep up in good work,soumya\n",
      "do submit your git-hub urls to my index box,soumya\n",
      "\t\n",
      "keep up in good work,radika\n",
      "do submit your git-hub urls to my index box,radika\n",
      "\t\n",
      "keep up in good work,arun\n",
      "do submit your git-hub urls to my index box,arun\n",
      "\t\n",
      "keep up in good work,deepak\n",
      "do submit your git-hub urls to my index box,deepak\n",
      "\t\n",
      "keep up in good work,masthan\n",
      "do submit your git-hub urls to my index box,masthan\n",
      "\t\n"
     ]
    }
   ],
   "source": [
    "for a in students:\n",
    "    print(f'keep up in good work,{a}')\n",
    "    print(f'do submit your git-hub urls to my index box,{a}\\n\\t')"
   ]
  },
  {
   "cell_type": "code",
   "execution_count": 22,
   "id": "e2fb2a89",
   "metadata": {},
   "outputs": [],
   "source": [
    "boys = ('vali','ananya','soumya','radika','arun','deepak','masthan')"
   ]
  },
  {
   "cell_type": "code",
   "execution_count": 23,
   "id": "5a2ea0dd",
   "metadata": {},
   "outputs": [
    {
     "name": "stdout",
     "output_type": "stream",
     "text": [
      "('vali', 'ananya', 'soumya', 'radika', 'arun', 'deepak', 'masthan')\n"
     ]
    }
   ],
   "source": [
    "print(boys)"
   ]
  },
  {
   "cell_type": "code",
   "execution_count": 24,
   "id": "4c257751",
   "metadata": {},
   "outputs": [
    {
     "data": {
      "text/plain": [
       "tuple"
      ]
     },
     "execution_count": 24,
     "metadata": {},
     "output_type": "execute_result"
    }
   ],
   "source": [
    "type(boys)"
   ]
  },
  {
   "cell_type": "code",
   "execution_count": 25,
   "id": "ee84a13a",
   "metadata": {},
   "outputs": [
    {
     "data": {
      "text/plain": [
       "'vali'"
      ]
     },
     "execution_count": 25,
     "metadata": {},
     "output_type": "execute_result"
    }
   ],
   "source": [
    "boys[0]"
   ]
  },
  {
   "cell_type": "code",
   "execution_count": 27,
   "id": "dbbdbb03",
   "metadata": {},
   "outputs": [
    {
     "name": "stdout",
     "output_type": "stream",
     "text": [
      "(200, 50)\n"
     ]
    },
    {
     "data": {
      "text/plain": [
       "tuple"
      ]
     },
     "execution_count": 27,
     "metadata": {},
     "output_type": "execute_result"
    }
   ],
   "source": [
    "dimensions = (200,50)\n",
    "print(dimensions)\n",
    "type(dimensions)"
   ]
  },
  {
   "cell_type": "code",
   "execution_count": null,
   "id": "9d830fe4",
   "metadata": {},
   "outputs": [],
   "source": []
  },
  {
   "cell_type": "code",
   "execution_count": null,
   "id": "90075b85",
   "metadata": {},
   "outputs": [],
   "source": []
  },
  {
   "cell_type": "code",
   "execution_count": null,
   "id": "1684cf82",
   "metadata": {},
   "outputs": [],
   "source": []
  },
  {
   "cell_type": "code",
   "execution_count": null,
   "id": "11cef6a4",
   "metadata": {},
   "outputs": [],
   "source": []
  }
 ],
 "metadata": {
  "kernelspec": {
   "display_name": "Python 3 (ipykernel)",
   "language": "python",
   "name": "python3"
  },
  "language_info": {
   "codemirror_mode": {
    "name": "ipython",
    "version": 3
   },
   "file_extension": ".py",
   "mimetype": "text/x-python",
   "name": "python",
   "nbconvert_exporter": "python",
   "pygments_lexer": "ipython3",
   "version": "3.10.9"
  }
 },
 "nbformat": 4,
 "nbformat_minor": 5
}
